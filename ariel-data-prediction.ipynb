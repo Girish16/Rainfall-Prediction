{
 "cells": [
  {
   "cell_type": "code",
   "execution_count": 1,
   "id": "cfd872ef",
   "metadata": {
    "_cell_guid": "b1076dfc-b9ad-4769-8c92-a6c4dae69d19",
    "_uuid": "8f2839f25d086af736a60e9eeb907d3b93b6e0e5",
    "execution": {
     "iopub.execute_input": "2025-09-07T03:40:44.456908Z",
     "iopub.status.busy": "2025-09-07T03:40:44.456500Z",
     "iopub.status.idle": "2025-09-07T03:40:46.828898Z",
     "shell.execute_reply": "2025-09-07T03:40:46.827450Z"
    },
    "papermill": {
     "duration": 2.378591,
     "end_time": "2025-09-07T03:40:46.831249",
     "exception": false,
     "start_time": "2025-09-07T03:40:44.452658",
     "status": "completed"
    },
    "tags": []
   },
   "outputs": [
    {
     "name": "stdout",
     "output_type": "stream",
     "text": [
      "Loading data...\n",
      "Calculating mean and std dev for each wavelength...\n",
      "Building submission file...\n",
      "submission.csv created successfully!\n",
      "First 5 columns of submission file:\n",
      "   planet_id      wl_1   sigma_1      wl_2   sigma_2\n",
      "0    1103775  0.014609  0.010652  0.014588  0.010579\n"
     ]
    },
    {
     "name": "stderr",
     "output_type": "stream",
     "text": [
      "/tmp/ipykernel_13/4265143917.py:38: FutureWarning: Series.__getitem__ treating keys as positions is deprecated. In a future version, integer keys will always be treated as labels (consistent with DataFrame behavior). To access a value by position, use `ser.iloc[pos]`\n",
      "  final_submission[col] = mean_spectrum[i]\n",
      "/tmp/ipykernel_13/4265143917.py:44: FutureWarning: Series.__getitem__ treating keys as positions is deprecated. In a future version, integer keys will always be treated as labels (consistent with DataFrame behavior). To access a value by position, use `ser.iloc[pos]`\n",
      "  final_submission[col] = std_spectrum[i]\n"
     ]
    }
   ],
   "source": [
    "import pandas as pd\n",
    "import numpy as np\n",
    "\n",
    "# --- 1. Load the training targets and submission file ---\n",
    "print(\"Loading data...\")\n",
    "train_df = pd.read_csv(\"/kaggle/input/ariel-data-challenge-2025/train.csv\")\n",
    "sample_submission = pd.read_csv(\"/kaggle/input/ariel-data-challenge-2025/sample_submission.csv\")\n",
    "\n",
    "# Isolate the target columns (wavelengths)\n",
    "wl_cols = [f'wl_{i}' for i in range(1, 284)]\n",
    "train_targets = train_df[wl_cols]\n",
    "\n",
    "# --- 2. Calculate the mean and standard deviation for each wavelength ---\n",
    "print(\"Calculating mean and std dev for each wavelength...\")\n",
    "mean_spectrum = train_targets.mean(axis=0)\n",
    "std_spectrum = train_targets.std(axis=0)\n",
    "\n",
    "# --- 3. Create the submission DataFrame ---\n",
    "print(\"Building submission file...\")\n",
    "# Get the planet_id from the sample submission (for the test set)\n",
    "submission_df = sample_submission[['planet_id']].copy()\n",
    "\n",
    "# Create columns for all the wl and sigma predictions\n",
    "# This is a bit of pandas magic to create the columns in the right order\n",
    "wl_sigma_cols = []\n",
    "for i in range(1, 284):\n",
    "    wl_sigma_cols.append(f'wl_{i}')\n",
    "    wl_sigma_cols.append(f'sigma_{i}')\n",
    "\n",
    "# Recreate the submission DataFrame with the correct columns, initialized to zero\n",
    "final_submission = pd.DataFrame(columns=['planet_id'] + wl_sigma_cols)\n",
    "final_submission['planet_id'] = submission_df['planet_id']\n",
    "\n",
    "\n",
    "# --- 4. Populate the submission file ---\n",
    "# Assign the calculated mean to all the 'wl_' columns\n",
    "for i, col in enumerate(wl_cols):\n",
    "    final_submission[col] = mean_spectrum[i]\n",
    "\n",
    "# Assign the calculated standard deviation to all the 'sigma_' columns\n",
    "sigma_cols = [f'sigma_{i}' for i in range(1, 284)]\n",
    "for i, col in enumerate(sigma_cols):\n",
    "    # We use the std dev of the wl columns as our sigma estimate\n",
    "    final_submission[col] = std_spectrum[i]\n",
    "\n",
    "\n",
    "# --- 5. Save the submission file ---\n",
    "final_submission.to_csv(\"submission.csv\", index=False)\n",
    "print(\"submission.csv created successfully!\")\n",
    "print(\"First 5 columns of submission file:\")\n",
    "print(final_submission.head().iloc[:, :5])"
   ]
  }
 ],
 "metadata": {
  "kaggle": {
   "accelerator": "none",
   "dataSources": [
    {
     "databundleVersionId": 13093295,
     "sourceId": 101849,
     "sourceType": "competition"
    }
   ],
   "dockerImageVersionId": 31089,
   "isGpuEnabled": false,
   "isInternetEnabled": false,
   "language": "python",
   "sourceType": "notebook"
  },
  "kernelspec": {
   "display_name": "Python 3",
   "language": "python",
   "name": "python3"
  },
  "language_info": {
   "codemirror_mode": {
    "name": "ipython",
    "version": 3
   },
   "file_extension": ".py",
   "mimetype": "text/x-python",
   "name": "python",
   "nbconvert_exporter": "python",
   "pygments_lexer": "ipython3",
   "version": "3.11.13"
  },
  "papermill": {
   "default_parameters": {},
   "duration": 9.094455,
   "end_time": "2025-09-07T03:40:47.657259",
   "environment_variables": {},
   "exception": null,
   "input_path": "__notebook__.ipynb",
   "output_path": "__notebook__.ipynb",
   "parameters": {},
   "start_time": "2025-09-07T03:40:38.562804",
   "version": "2.6.0"
  }
 },
 "nbformat": 4,
 "nbformat_minor": 5
}
